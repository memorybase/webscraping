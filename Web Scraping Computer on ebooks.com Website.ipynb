{
 "cells": [
  {
   "cell_type": "markdown",
   "id": "bf3f4b81",
   "metadata": {},
   "source": [
    "## Web Scraping 100 Pages of Computer Science text books  on ebooks.com using Python & request library"
   ]
  },
  {
   "cell_type": "markdown",
   "id": "6cb27db4",
   "metadata": {},
   "source": [
    "## Step 1 -  Imports"
   ]
  },
  {
   "cell_type": "code",
   "execution_count": 2,
   "id": "9e89c2f2",
   "metadata": {},
   "outputs": [],
   "source": [
    "import requests\n",
    "import pandas as pd"
   ]
  },
  {
   "cell_type": "markdown",
   "id": "51357434",
   "metadata": {},
   "source": [
    "## Step 2 - Requests & CURL"
   ]
  },
  {
   "cell_type": "markdown",
   "id": "6cf1cc49",
   "metadata": {},
   "source": [
    "https://www.ebooks.com/en-ng/category/computers/5204/"
   ]
  },
  {
   "cell_type": "code",
   "execution_count": 3,
   "id": "e5c35187",
   "metadata": {},
   "outputs": [],
   "source": [
    "# Note: https://sqqihao.github.io/trillworks.html\n",
    "# Above link is used to convert curl to python request"
   ]
  },
  {
   "cell_type": "code",
   "execution_count": 4,
   "id": "508fb93d",
   "metadata": {},
   "outputs": [],
   "source": [
    "headers = {\n",
    "    '^sec-ch-ua': '^\\\\^Not/A)Brand^\\\\^;v=^\\\\^8^\\\\^, ^\\\\^Chromium^\\\\^;v=^\\\\^126^\\\\^, ^\\\\^Google',\n",
    "    '^sec-ch-ua-platform': '^\\\\^Windows^\\\\^^',\n",
    "    'Referer': 'https://www.ebooks.com/en-ng/category/computers/5204/',\n",
    "    'sec-ch-ua-mobile': '?0',\n",
    "    'User-Agent': 'Mozilla/5.0 (Windows NT 10.0; Win64; x64) AppleWebKit/537.36 (KHTML, like Gecko) Chrome/126.0.0.0 Safari/537.36',\n",
    "    'Content-Type': 'application/json',\n",
    "}\n",
    "\n",
    "params = (\n",
    "    ('CountryCode', 'NG'),\n",
    "    ('bisacId', '5204'),\n",
    ")\n",
    "\n",
    "response = requests.get('https://www.ebooks.com/api/search/bisac/', headers=headers, params=params)"
   ]
  },
  {
   "cell_type": "code",
   "execution_count": 5,
   "id": "6b759ba5",
   "metadata": {},
   "outputs": [],
   "source": [
    "# Page 2\n",
    "\n",
    "import requests\n",
    "\n",
    "headers = {\n",
    "    '^sec-ch-ua': '^\\\\^Not/A)Brand^\\\\^;v=^\\\\^8^\\\\^, ^\\\\^Chromium^\\\\^;v=^\\\\^126^\\\\^, ^\\\\^Google',\n",
    "    '^sec-ch-ua-platform': '^\\\\^Windows^\\\\^^',\n",
    "    'Referer': 'https://www.ebooks.com/en-ng/category/computers/5204/?pageNumber=2',\n",
    "    'sec-ch-ua-mobile': '?0',\n",
    "    'User-Agent': 'Mozilla/5.0 (Windows NT 10.0; Win64; x64) AppleWebKit/537.36 (KHTML, like Gecko) Chrome/126.0.0.0 Safari/537.36',\n",
    "    'Content-Type': 'application/json',\n",
    "}\n",
    "\n",
    "params = (\n",
    "    ('pageNumber', '2'),\n",
    "    ('CountryCode', 'NG'),\n",
    "    ('bisacId', '5204'),\n",
    ")\n",
    "\n",
    "response = requests.get('https://www.ebooks.com/api/search/bisac/', headers=headers, params=params)\n",
    "\n",
    "#NB. Original query string below. It seems impossible to parse and\n",
    "#reproduce query strings 100% accurately so the one below is given\n",
    "#in case the reproduced version is not \"correct\".\n",
    "# response = requests.get('https://www.ebooks.com/api/search/bisac/?pageNumber=2&CountryCode=NG&bisacId=5204', headers=headers)\n"
   ]
  },
  {
   "cell_type": "markdown",
   "id": "2eb6d0f8",
   "metadata": {},
   "source": [
    "## Step 3 - Checks Status Code"
   ]
  },
  {
   "cell_type": "code",
   "execution_count": 6,
   "id": "3713c220",
   "metadata": {},
   "outputs": [
    {
     "data": {
      "text/plain": [
       "<Response [200]>"
      ]
     },
     "execution_count": 6,
     "metadata": {},
     "output_type": "execute_result"
    }
   ],
   "source": [
    "response"
   ]
  },
  {
   "cell_type": "markdown",
   "id": "fcf9a2f4",
   "metadata": {},
   "source": [
    "## Step 4 - Create JSON Object"
   ]
  },
  {
   "cell_type": "code",
   "execution_count": 7,
   "id": "abc8316c",
   "metadata": {
    "scrolled": false
   },
   "outputs": [
    {
     "data": {
      "text/plain": [
       "{'search_term': None,\n",
       " 'start_record': 11,\n",
       " 'total_results': 58049,\n",
       " 'books': [{'id': 211330762,\n",
       "   'book_url': '/en-ng/book/211330762/building-multi-tenant-saas-architectures/tod-golding/',\n",
       "   'image_url': 'https://image.ebooks.com/cover/211330762.jpg?width=97&height=150&quality=85',\n",
       "   'image_alt_tag': 'Building Multi-Tenant SaaS Architectures',\n",
       "   'src_set': ' https://image.ebooks.com/cover/211330762.jpg?width=97&height=150&quality=85 1x,  https://image.ebooks.com/cover/211330762.jpg?width=194&height=300&quality=85 2x,  https://image.ebooks.com/cover/211330762.jpg?width=291&height=450&quality=85 3x,  https://image.ebooks.com/cover/211330762.jpg?width=388&height=600&quality=85 4x',\n",
       "   'image_width': 97,\n",
       "   'image_height': 150,\n",
       "   'title': 'Building Multi-Tenant SaaS Architectures',\n",
       "   'edition': '',\n",
       "   'subtitle': '',\n",
       "   'authors': [{'name': 'Tod Golding',\n",
       "     'normalised_name': 'Golding, Tod',\n",
       "     'landing_page': '/en-ng/author/tod-golding/58824/',\n",
       "     'precedence': 0,\n",
       "     'author_type_short': ''}],\n",
       "   'num_authors': 1,\n",
       "   'series': '',\n",
       "   'series_number': None,\n",
       "   'has_series': False,\n",
       "   'series_url': '',\n",
       "   'publisher': \"O'Reilly Media\",\n",
       "   'publication_year': '2024',\n",
       "   'price': 'US$67.99',\n",
       "   'description': 'Software as a service (SaaS) is on the path to becoming the de facto model for building, delivering, and operating software solutions. Adopting a multi-tenant SaaS model requires builders to take on a broad range of new architecture, implementation, and operational challenges. How data is partitioned, how resources are isolated, how tenants are...',\n",
       "   'is_preorder': False,\n",
       "   'is_available': True,\n",
       "   'preorder_url': '/account/preorder/?bookId=211330762',\n",
       "   'add_to_cart_url': '/cart/add/211330762/',\n",
       "   'currency_symbol': 'US$',\n",
       "   'price_number': 67.99,\n",
       "   'on_sale_date': '2024-04-24T00:00:00',\n",
       "   'short_publication_date': 'Apr 2024'},\n",
       "  {'id': 211354716,\n",
       "   'book_url': '/en-ng/book/211354716/think-python/allen-b-downey/',\n",
       "   'image_url': 'https://image.ebooks.com/cover/211354716.jpg?width=97&height=150&quality=85',\n",
       "   'image_alt_tag': 'Think Python',\n",
       "   'src_set': ' https://image.ebooks.com/cover/211354716.jpg?width=97&height=150&quality=85 1x,  https://image.ebooks.com/cover/211354716.jpg?width=194&height=300&quality=85 2x,  https://image.ebooks.com/cover/211354716.jpg?width=291&height=450&quality=85 3x,  https://image.ebooks.com/cover/211354716.jpg?width=388&height=600&quality=85 4x',\n",
       "   'image_width': 97,\n",
       "   'image_height': 150,\n",
       "   'title': 'Think Python',\n",
       "   'edition': ' (3rd ed.)',\n",
       "   'subtitle': '',\n",
       "   'authors': [{'name': 'Allen B. Downey',\n",
       "     'normalised_name': 'Downey, Allen B.',\n",
       "     'landing_page': '/en-ng/author/allen-b.-downey/171577/',\n",
       "     'precedence': 0,\n",
       "     'author_type_short': ''}],\n",
       "   'num_authors': 1,\n",
       "   'series': '',\n",
       "   'series_number': None,\n",
       "   'has_series': False,\n",
       "   'series_url': '',\n",
       "   'publisher': \"O'Reilly Media\",\n",
       "   'publication_year': '2024',\n",
       "   'price': 'US$41.99',\n",
       "   'description': 'Python is an excellent way to get started in programming, and this clear, concise guide walks you through Python a step at a time—beginning with basic programming concepts before moving on to functions, data structures, and object-oriented design. This revised third edition reflects the growing role of large language models (LLMs) in programming...',\n",
       "   'is_preorder': False,\n",
       "   'is_available': True,\n",
       "   'preorder_url': '/account/preorder/?bookId=211354716',\n",
       "   'add_to_cart_url': '/cart/add/211354716/',\n",
       "   'currency_symbol': 'US$',\n",
       "   'price_number': 41.99,\n",
       "   'on_sale_date': '2024-05-24T00:00:00',\n",
       "   'short_publication_date': 'May 2024'},\n",
       "  {'id': 210567255,\n",
       "   'book_url': '/en-ng/book/210567255/designing-machine-learning-systems/chip-huyen/',\n",
       "   'image_url': 'https://image.ebooks.com/cover/210567255.jpg?width=97&height=150&quality=85',\n",
       "   'image_alt_tag': 'Designing Machine Learning Systems',\n",
       "   'src_set': ' https://image.ebooks.com/cover/210567255.jpg?width=97&height=150&quality=85 1x,  https://image.ebooks.com/cover/210567255.jpg?width=194&height=300&quality=85 2x,  https://image.ebooks.com/cover/210567255.jpg?width=291&height=450&quality=85 3x,  https://image.ebooks.com/cover/210567255.jpg?width=388&height=600&quality=85 4x',\n",
       "   'image_width': 97,\n",
       "   'image_height': 150,\n",
       "   'title': 'Designing Machine Learning Systems',\n",
       "   'edition': '',\n",
       "   'subtitle': '',\n",
       "   'authors': [{'name': 'Chip Huyen',\n",
       "     'normalised_name': 'Huyen, Chip',\n",
       "     'landing_page': '/en-ng/author/chip-huyen/208680985/',\n",
       "     'precedence': 0,\n",
       "     'author_type_short': ''}],\n",
       "   'num_authors': 1,\n",
       "   'series': '',\n",
       "   'series_number': None,\n",
       "   'has_series': False,\n",
       "   'series_url': '',\n",
       "   'publisher': \"O'Reilly Media\",\n",
       "   'publication_year': '2022',\n",
       "   'price': 'US$56.99',\n",
       "   'description': \"Machine learning systems are both complex and unique. Complex because they consist of many different components and involve many different stakeholders. Unique because they're data dependent, with data varying wildly from one use case to the next. In this book, you'll learn a holistic approach to designing ML systems that are reliable, scalable,...\",\n",
       "   'is_preorder': False,\n",
       "   'is_available': True,\n",
       "   'preorder_url': '/account/preorder/?bookId=210567255',\n",
       "   'add_to_cart_url': '/cart/add/210567255/',\n",
       "   'currency_symbol': 'US$',\n",
       "   'price_number': 56.99,\n",
       "   'on_sale_date': '2022-05-17T00:00:00',\n",
       "   'short_publication_date': 'May 2022'},\n",
       "  {'id': 209933784,\n",
       "   'book_url': '/en-ng/book/209933784/fundamentals-of-software-architecture/mark-richards/',\n",
       "   'image_url': 'https://image.ebooks.com/cover/209933784.jpg?width=97&height=150&quality=85',\n",
       "   'image_alt_tag': 'Fundamentals of Software Architecture: An Engineering Approach',\n",
       "   'src_set': ' https://image.ebooks.com/cover/209933784.jpg?width=97&height=150&quality=85 1x,  https://image.ebooks.com/cover/209933784.jpg?width=194&height=300&quality=85 2x,  https://image.ebooks.com/cover/209933784.jpg?width=291&height=450&quality=85 3x,  https://image.ebooks.com/cover/209933784.jpg?width=388&height=600&quality=85 4x',\n",
       "   'image_width': 97,\n",
       "   'image_height': 150,\n",
       "   'title': 'Fundamentals of Software Architecture',\n",
       "   'edition': '',\n",
       "   'subtitle': 'An Engineering Approach',\n",
       "   'authors': [{'name': 'Mark Richards',\n",
       "     'normalised_name': 'Richards, Mark',\n",
       "     'landing_page': '/en-ng/author/mark-richards/183013/',\n",
       "     'precedence': 0,\n",
       "     'author_type_short': ''},\n",
       "    {'name': 'Neal Ford',\n",
       "     'normalised_name': 'Ford, Neal',\n",
       "     'landing_page': '/en-ng/author/neal-ford/182946/',\n",
       "     'precedence': 0,\n",
       "     'author_type_short': ''}],\n",
       "   'num_authors': 2,\n",
       "   'series': '',\n",
       "   'series_number': None,\n",
       "   'has_series': False,\n",
       "   'series_url': '',\n",
       "   'publisher': \"O'Reilly Media\",\n",
       "   'publication_year': '2020',\n",
       "   'price': 'US$67.99',\n",
       "   'description': 'Salary surveys worldwide regularly place software architect in the top 10 best jobs, yet no real guide exists to help developers become architects. Until now. This book provides the first comprehensive overview of software architecture’s many aspects. Aspiring and existing architects alike will examine architectural characteristics,...',\n",
       "   'is_preorder': False,\n",
       "   'is_available': True,\n",
       "   'preorder_url': '/account/preorder/?bookId=209933784',\n",
       "   'add_to_cart_url': '/cart/add/209933784/',\n",
       "   'currency_symbol': 'US$',\n",
       "   'price_number': 67.99,\n",
       "   'on_sale_date': '2020-01-28T00:00:00',\n",
       "   'short_publication_date': 'Jan 2020'},\n",
       "  {'id': 210833591,\n",
       "   'book_url': '/en-ng/book/210833591/generative-deep-learning/david-foster/',\n",
       "   'image_url': 'https://image.ebooks.com/cover/210833591.jpg?width=97&height=150&quality=85',\n",
       "   'image_alt_tag': 'Generative Deep Learning',\n",
       "   'src_set': ' https://image.ebooks.com/cover/210833591.jpg?width=97&height=150&quality=85 1x,  https://image.ebooks.com/cover/210833591.jpg?width=194&height=300&quality=85 2x,  https://image.ebooks.com/cover/210833591.jpg?width=291&height=450&quality=85 3x,  https://image.ebooks.com/cover/210833591.jpg?width=388&height=600&quality=85 4x',\n",
       "   'image_width': 97,\n",
       "   'image_height': 150,\n",
       "   'title': 'Generative Deep Learning',\n",
       "   'edition': ' (2nd ed.)',\n",
       "   'subtitle': '',\n",
       "   'authors': [{'name': 'David Foster',\n",
       "     'normalised_name': 'Foster, David',\n",
       "     'landing_page': '/en-ng/author/david-foster/7762/',\n",
       "     'precedence': 0,\n",
       "     'author_type_short': ''}],\n",
       "   'num_authors': 1,\n",
       "   'series': '',\n",
       "   'series_number': None,\n",
       "   'has_series': False,\n",
       "   'series_url': '',\n",
       "   'publisher': \"O'Reilly Media\",\n",
       "   'publication_year': '2022',\n",
       "   'price': 'US$67.99',\n",
       "   'description': 'Generative AI is the hottest topic in tech. This practical book teaches machine learning engineers and data scientists how to use TensorFlow and Keras to create impressive generative deep learning models from scratch, including variational autoencoders (VAEs), generative adversarial networks (GANs), Transformers, normalizing flows, energy-based...',\n",
       "   'is_preorder': False,\n",
       "   'is_available': True,\n",
       "   'preorder_url': '/account/preorder/?bookId=210833591',\n",
       "   'add_to_cart_url': '/cart/add/210833591/',\n",
       "   'currency_symbol': 'US$',\n",
       "   'price_number': 67.99,\n",
       "   'on_sale_date': '2023-04-28T00:00:00',\n",
       "   'short_publication_date': 'Jun 2022'},\n",
       "  {'id': 210579128,\n",
       "   'book_url': '/en-ng/book/210579128/learning-typescript/josh-goldberg/',\n",
       "   'image_url': 'https://image.ebooks.com/cover/210579128.jpg?width=97&height=150&quality=85',\n",
       "   'image_alt_tag': 'Learning TypeScript',\n",
       "   'src_set': ' https://image.ebooks.com/cover/210579128.jpg?width=97&height=150&quality=85 1x,  https://image.ebooks.com/cover/210579128.jpg?width=194&height=300&quality=85 2x,  https://image.ebooks.com/cover/210579128.jpg?width=291&height=450&quality=85 3x,  https://image.ebooks.com/cover/210579128.jpg?width=388&height=600&quality=85 4x',\n",
       "   'image_width': 97,\n",
       "   'image_height': 150,\n",
       "   'title': 'Learning TypeScript',\n",
       "   'edition': '',\n",
       "   'subtitle': '',\n",
       "   'authors': [{'name': 'Josh Goldberg',\n",
       "     'normalised_name': 'Goldberg, Josh',\n",
       "     'landing_page': '/en-ng/author/josh-goldberg/208685496/',\n",
       "     'precedence': 0,\n",
       "     'author_type_short': ''}],\n",
       "   'num_authors': 1,\n",
       "   'series': '',\n",
       "   'series_number': None,\n",
       "   'has_series': False,\n",
       "   'series_url': '',\n",
       "   'publisher': \"O'Reilly Media\",\n",
       "   'publication_year': '2022',\n",
       "   'price': 'US$47.99',\n",
       "   'description': \"TypeScript has conquered the world of JavaScript. Identified in developer surveys as one of the world's fastest growing and most popular languages, TypeScript is widely used in consumer and business companies across the world and is frequently credited for helping massive web applications scale. But what exactly is TypeScript? How and why does...\",\n",
       "   'is_preorder': False,\n",
       "   'is_available': True,\n",
       "   'preorder_url': '/account/preorder/?bookId=210579128',\n",
       "   'add_to_cart_url': '/cart/add/210579128/',\n",
       "   'currency_symbol': 'US$',\n",
       "   'price_number': 47.99,\n",
       "   'on_sale_date': '2022-06-03T00:00:00',\n",
       "   'short_publication_date': 'Jun 2022'},\n",
       "  {'id': 211331399,\n",
       "   'book_url': '/en-ng/book/211331399/modern-data-analytics-in-excel/george-mount/',\n",
       "   'image_url': 'https://image.ebooks.com/cover/211331399.jpg?width=97&height=150&quality=85',\n",
       "   'image_alt_tag': 'Modern Data Analytics in Excel',\n",
       "   'src_set': ' https://image.ebooks.com/cover/211331399.jpg?width=97&height=150&quality=85 1x,  https://image.ebooks.com/cover/211331399.jpg?width=194&height=300&quality=85 2x,  https://image.ebooks.com/cover/211331399.jpg?width=291&height=450&quality=85 3x,  https://image.ebooks.com/cover/211331399.jpg?width=388&height=600&quality=85 4x',\n",
       "   'image_width': 97,\n",
       "   'image_height': 150,\n",
       "   'title': 'Modern Data Analytics in Excel',\n",
       "   'edition': '',\n",
       "   'subtitle': '',\n",
       "   'authors': [{'name': 'George Mount',\n",
       "     'normalised_name': 'Mount, George',\n",
       "     'landing_page': '/en-ng/author/george-mount/208550942/',\n",
       "     'precedence': 0,\n",
       "     'author_type_short': ''}],\n",
       "   'num_authors': 1,\n",
       "   'series': '',\n",
       "   'series_number': None,\n",
       "   'has_series': False,\n",
       "   'series_url': '',\n",
       "   'publisher': \"O'Reilly Media\",\n",
       "   'publication_year': '2024',\n",
       "   'price': 'US$50.99',\n",
       "   'description': \"If you haven't modernized your data cleaning and reporting processes in Microsoft Excel, you're missing out on big productivity gains. And if you're looking to conduct rigorous data analysis, more can be done in Excel than you think. This practical book serves as an introduction to the modern Excel suite of features along with other powerful...\",\n",
       "   'is_preorder': False,\n",
       "   'is_available': True,\n",
       "   'preorder_url': '/account/preorder/?bookId=211331399',\n",
       "   'add_to_cart_url': '/cart/add/211331399/',\n",
       "   'currency_symbol': 'US$',\n",
       "   'price_number': 50.99,\n",
       "   'on_sale_date': '2024-04-26T00:00:00',\n",
       "   'short_publication_date': 'Apr 2024'},\n",
       "  {'id': 210670147,\n",
       "   'book_url': '/en-ng/book/210670147/the-staff-engineer-s-path/tanya-reilly/',\n",
       "   'image_url': 'https://image.ebooks.com/cover/210670147.jpg?width=97&height=150&quality=85',\n",
       "   'image_alt_tag': 'The Staff Engineer&#x27;s Path',\n",
       "   'src_set': ' https://image.ebooks.com/cover/210670147.jpg?width=97&height=150&quality=85 1x,  https://image.ebooks.com/cover/210670147.jpg?width=194&height=300&quality=85 2x,  https://image.ebooks.com/cover/210670147.jpg?width=291&height=450&quality=85 3x,  https://image.ebooks.com/cover/210670147.jpg?width=388&height=600&quality=85 4x',\n",
       "   'image_width': 97,\n",
       "   'image_height': 150,\n",
       "   'title': \"The Staff Engineer's Path\",\n",
       "   'edition': '',\n",
       "   'subtitle': '',\n",
       "   'authors': [{'name': 'Tanya Reilly',\n",
       "     'normalised_name': 'Reilly, Tanya',\n",
       "     'landing_page': '/en-ng/author/tanya-reilly/208722527/',\n",
       "     'precedence': 0,\n",
       "     'author_type_short': ''}],\n",
       "   'num_authors': 1,\n",
       "   'series': '',\n",
       "   'series_number': None,\n",
       "   'has_series': False,\n",
       "   'series_url': '',\n",
       "   'publisher': \"O'Reilly Media\",\n",
       "   'publication_year': '2022',\n",
       "   'price': 'US$33.99',\n",
       "   'description': \"For years, companies have rewarded their most effective engineers with management positions. But treating management as the default path for an engineer with leadership ability doesn't serve the industry well--or the engineer. The staff engineer's path allows engineers to contribute at a high level as role models, driving big projects,...\",\n",
       "   'is_preorder': False,\n",
       "   'is_available': True,\n",
       "   'preorder_url': '/account/preorder/?bookId=210670147',\n",
       "   'add_to_cart_url': '/cart/add/210670147/',\n",
       "   'currency_symbol': 'US$',\n",
       "   'price_number': 33.99,\n",
       "   'on_sale_date': '2022-09-20T00:00:00',\n",
       "   'short_publication_date': 'Sep 2022'},\n",
       "  {'id': 210595152,\n",
       "   'book_url': '/en-ng/book/210595152/fundamentals-of-data-engineering/joe-reis/',\n",
       "   'image_url': 'https://image.ebooks.com/cover/210595152.jpg?width=97&height=150&quality=85',\n",
       "   'image_alt_tag': 'Fundamentals of Data Engineering',\n",
       "   'src_set': ' https://image.ebooks.com/cover/210595152.jpg?width=97&height=150&quality=85 1x,  https://image.ebooks.com/cover/210595152.jpg?width=194&height=300&quality=85 2x,  https://image.ebooks.com/cover/210595152.jpg?width=291&height=450&quality=85 3x,  https://image.ebooks.com/cover/210595152.jpg?width=388&height=600&quality=85 4x',\n",
       "   'image_width': 97,\n",
       "   'image_height': 150,\n",
       "   'title': 'Fundamentals of Data Engineering',\n",
       "   'edition': '',\n",
       "   'subtitle': '',\n",
       "   'authors': [{'name': 'Joe Reis',\n",
       "     'normalised_name': 'Reis, Joe',\n",
       "     'landing_page': '/en-ng/author/joe-reis/208694572/',\n",
       "     'precedence': 0,\n",
       "     'author_type_short': ''},\n",
       "    {'name': 'Matt Housley',\n",
       "     'normalised_name': 'Housley, Matt',\n",
       "     'landing_page': '/en-ng/author/matt-housley/208694573/',\n",
       "     'precedence': 0,\n",
       "     'author_type_short': ''}],\n",
       "   'num_authors': 2,\n",
       "   'series': '',\n",
       "   'series_number': None,\n",
       "   'has_series': False,\n",
       "   'series_url': '',\n",
       "   'publisher': \"O'Reilly Media\",\n",
       "   'publication_year': '2022',\n",
       "   'price': 'US$67.99',\n",
       "   'description': \"Data engineering has grown rapidly in the past decade, leaving many software engineers, data scientists, and analysts looking for a comprehensive view of this practice. With this practical book, you'll learn how to plan and build systems to serve the needs of your organization and customers by evaluating the best technologies available through...\",\n",
       "   'is_preorder': False,\n",
       "   'is_available': True,\n",
       "   'preorder_url': '/account/preorder/?bookId=210595152',\n",
       "   'add_to_cart_url': '/cart/add/210595152/',\n",
       "   'currency_symbol': 'US$',\n",
       "   'price_number': 67.99,\n",
       "   'on_sale_date': '2022-06-22T00:00:00',\n",
       "   'short_publication_date': 'Jun 2022'},\n",
       "  {'id': 210669494,\n",
       "   'book_url': '/en-ng/book/210669494/terraform-up-and-running/yevgeniy-brikman/',\n",
       "   'image_url': 'https://image.ebooks.com/cover/210669494.jpg?width=97&height=150&quality=85',\n",
       "   'image_alt_tag': 'Terraform: Up and Running',\n",
       "   'src_set': ' https://image.ebooks.com/cover/210669494.jpg?width=97&height=150&quality=85 1x,  https://image.ebooks.com/cover/210669494.jpg?width=194&height=300&quality=85 2x,  https://image.ebooks.com/cover/210669494.jpg?width=291&height=450&quality=85 3x,  https://image.ebooks.com/cover/210669494.jpg?width=388&height=600&quality=85 4x',\n",
       "   'image_width': 97,\n",
       "   'image_height': 150,\n",
       "   'title': 'Terraform: Up and Running',\n",
       "   'edition': ' (3rd ed.)',\n",
       "   'subtitle': '',\n",
       "   'authors': [{'name': 'Yevgeniy Brikman',\n",
       "     'normalised_name': 'Brikman, Yevgeniy',\n",
       "     'landing_page': '/en-ng/author/yevgeniy-brikman/1005582/',\n",
       "     'precedence': 0,\n",
       "     'author_type_short': ''}],\n",
       "   'num_authors': 1,\n",
       "   'series': '',\n",
       "   'series_number': None,\n",
       "   'has_series': False,\n",
       "   'series_url': '',\n",
       "   'publisher': \"O'Reilly Media\",\n",
       "   'publication_year': '2022',\n",
       "   'price': 'US$56.99',\n",
       "   'description': 'Terraform has become a key player in the DevOps world for defining, launching, and managing infrastructure as code (IaC) across a variety of cloud and virtualization platforms, including AWS, Google Cloud, Azure, and more. This hands-on third edition, expanded and thoroughly updated for version 1.0 and beyond, shows you the fastest way to get up...',\n",
       "   'is_preorder': False,\n",
       "   'is_available': True,\n",
       "   'preorder_url': '/account/preorder/?bookId=210669494',\n",
       "   'add_to_cart_url': '/cart/add/210669494/',\n",
       "   'currency_symbol': 'US$',\n",
       "   'price_number': 56.99,\n",
       "   'on_sale_date': '2022-09-19T00:00:00',\n",
       "   'short_publication_date': 'Sep 2022'}],\n",
       " 'pages': [{'number': '1',\n",
       "   'is_selected': False,\n",
       "   'show_mobile': True,\n",
       "   'show_tablet': True,\n",
       "   'search_url': '/en-ng/category/computers/5204/'},\n",
       "  {'number': '2',\n",
       "   'is_selected': True,\n",
       "   'show_mobile': True,\n",
       "   'show_tablet': True,\n",
       "   'search_url': '/en-ng/category/computers/5204/?pageNumber=2'},\n",
       "  {'number': '3',\n",
       "   'is_selected': False,\n",
       "   'show_mobile': True,\n",
       "   'show_tablet': True,\n",
       "   'search_url': '/en-ng/category/computers/5204/?pageNumber=3'},\n",
       "  {'number': '4',\n",
       "   'is_selected': False,\n",
       "   'show_mobile': True,\n",
       "   'show_tablet': True,\n",
       "   'search_url': '/en-ng/category/computers/5204/?pageNumber=4'},\n",
       "  {'number': '5',\n",
       "   'is_selected': False,\n",
       "   'show_mobile': True,\n",
       "   'show_tablet': True,\n",
       "   'search_url': '/en-ng/category/computers/5204/?pageNumber=5'},\n",
       "  {'number': '6',\n",
       "   'is_selected': False,\n",
       "   'show_mobile': False,\n",
       "   'show_tablet': True,\n",
       "   'search_url': '/en-ng/category/computers/5204/?pageNumber=6'},\n",
       "  {'number': '7',\n",
       "   'is_selected': False,\n",
       "   'show_mobile': False,\n",
       "   'show_tablet': True,\n",
       "   'search_url': '/en-ng/category/computers/5204/?pageNumber=7'},\n",
       "  {'number': '8',\n",
       "   'is_selected': False,\n",
       "   'show_mobile': False,\n",
       "   'show_tablet': True,\n",
       "   'search_url': '/en-ng/category/computers/5204/?pageNumber=8'},\n",
       "  {'number': '9',\n",
       "   'is_selected': False,\n",
       "   'show_mobile': False,\n",
       "   'show_tablet': False,\n",
       "   'search_url': '/en-ng/category/computers/5204/?pageNumber=9'}],\n",
       " 'previous_page': '/en-ng/category/computers/5204/',\n",
       " 'next_page': '/en-ng/category/computers/5204/?pageNumber=3'}"
      ]
     },
     "execution_count": 7,
     "metadata": {},
     "output_type": "execute_result"
    }
   ],
   "source": [
    "response.json()"
   ]
  },
  {
   "cell_type": "code",
   "execution_count": 8,
   "id": "738fea53",
   "metadata": {},
   "outputs": [
    {
     "data": {
      "text/plain": [
       "dict"
      ]
     },
     "execution_count": 8,
     "metadata": {},
     "output_type": "execute_result"
    }
   ],
   "source": [
    "type(response.json())"
   ]
  },
  {
   "cell_type": "code",
   "execution_count": null,
   "id": "16a005da",
   "metadata": {},
   "outputs": [],
   "source": []
  },
  {
   "cell_type": "markdown",
   "id": "97c15e96",
   "metadata": {},
   "source": [
    "## Step 5 - Output Keys"
   ]
  },
  {
   "cell_type": "code",
   "execution_count": 16,
   "id": "252d8c91",
   "metadata": {},
   "outputs": [
    {
     "data": {
      "text/plain": [
       "dict_keys(['search_term', 'start_record', 'total_results', 'books', 'pages', 'previous_page', 'next_page'])"
      ]
     },
     "execution_count": 16,
     "metadata": {},
     "output_type": "execute_result"
    }
   ],
   "source": [
    "response.json().keys()"
   ]
  },
  {
   "cell_type": "code",
   "execution_count": 17,
   "id": "024a3e51",
   "metadata": {},
   "outputs": [
    {
     "data": {
      "text/plain": [
       "7"
      ]
     },
     "execution_count": 17,
     "metadata": {},
     "output_type": "execute_result"
    }
   ],
   "source": [
    "len(response.json().keys())"
   ]
  },
  {
   "cell_type": "markdown",
   "id": "6f224f53",
   "metadata": {},
   "source": [
    "## Step 6 - Find your Data"
   ]
  },
  {
   "cell_type": "code",
   "execution_count": 18,
   "id": "f51ca1ae",
   "metadata": {},
   "outputs": [
    {
     "data": {
      "text/plain": [
       "'Building Multi-Tenant SaaS Architectures'"
      ]
     },
     "execution_count": 18,
     "metadata": {},
     "output_type": "execute_result"
    }
   ],
   "source": [
    "response.json()['books'][0]['title']"
   ]
  },
  {
   "cell_type": "code",
   "execution_count": 19,
   "id": "e4fadfec",
   "metadata": {},
   "outputs": [
    {
     "data": {
      "text/plain": [
       "10"
      ]
     },
     "execution_count": 19,
     "metadata": {},
     "output_type": "execute_result"
    }
   ],
   "source": [
    "len(response.json()['books'])"
   ]
  },
  {
   "cell_type": "code",
   "execution_count": 20,
   "id": "da1f6251",
   "metadata": {},
   "outputs": [],
   "source": [
    "results_json = response.json()['books']"
   ]
  },
  {
   "cell_type": "markdown",
   "id": "e23fc9e9",
   "metadata": {},
   "source": [
    "### Testing for output keys"
   ]
  },
  {
   "cell_type": "code",
   "execution_count": 21,
   "id": "433cb4b8",
   "metadata": {},
   "outputs": [
    {
     "data": {
      "text/plain": [
       "[{'id': 211330762,\n",
       "  'book_url': '/en-ng/book/211330762/building-multi-tenant-saas-architectures/tod-golding/',\n",
       "  'image_url': 'https://image.ebooks.com/cover/211330762.jpg?width=97&height=150&quality=85',\n",
       "  'image_alt_tag': 'Building Multi-Tenant SaaS Architectures',\n",
       "  'src_set': ' https://image.ebooks.com/cover/211330762.jpg?width=97&height=150&quality=85 1x,  https://image.ebooks.com/cover/211330762.jpg?width=194&height=300&quality=85 2x,  https://image.ebooks.com/cover/211330762.jpg?width=291&height=450&quality=85 3x,  https://image.ebooks.com/cover/211330762.jpg?width=388&height=600&quality=85 4x',\n",
       "  'image_width': 97,\n",
       "  'image_height': 150,\n",
       "  'title': 'Building Multi-Tenant SaaS Architectures',\n",
       "  'edition': '',\n",
       "  'subtitle': '',\n",
       "  'authors': [{'name': 'Tod Golding',\n",
       "    'normalised_name': 'Golding, Tod',\n",
       "    'landing_page': '/en-ng/author/tod-golding/58824/',\n",
       "    'precedence': 0,\n",
       "    'author_type_short': ''}],\n",
       "  'num_authors': 1,\n",
       "  'series': '',\n",
       "  'series_number': None,\n",
       "  'has_series': False,\n",
       "  'series_url': '',\n",
       "  'publisher': \"O'Reilly Media\",\n",
       "  'publication_year': '2024',\n",
       "  'price': 'US$67.99',\n",
       "  'description': 'Software as a service (SaaS) is on the path to becoming the de facto model for building, delivering, and operating software solutions. Adopting a multi-tenant SaaS model requires builders to take on a broad range of new architecture, implementation, and operational challenges. How data is partitioned, how resources are isolated, how tenants are...',\n",
       "  'is_preorder': False,\n",
       "  'is_available': True,\n",
       "  'preorder_url': '/account/preorder/?bookId=211330762',\n",
       "  'add_to_cart_url': '/cart/add/211330762/',\n",
       "  'currency_symbol': 'US$',\n",
       "  'price_number': 67.99,\n",
       "  'on_sale_date': '2024-04-24T00:00:00',\n",
       "  'short_publication_date': 'Apr 2024'},\n",
       " {'id': 211354716,\n",
       "  'book_url': '/en-ng/book/211354716/think-python/allen-b-downey/',\n",
       "  'image_url': 'https://image.ebooks.com/cover/211354716.jpg?width=97&height=150&quality=85',\n",
       "  'image_alt_tag': 'Think Python',\n",
       "  'src_set': ' https://image.ebooks.com/cover/211354716.jpg?width=97&height=150&quality=85 1x,  https://image.ebooks.com/cover/211354716.jpg?width=194&height=300&quality=85 2x,  https://image.ebooks.com/cover/211354716.jpg?width=291&height=450&quality=85 3x,  https://image.ebooks.com/cover/211354716.jpg?width=388&height=600&quality=85 4x',\n",
       "  'image_width': 97,\n",
       "  'image_height': 150,\n",
       "  'title': 'Think Python',\n",
       "  'edition': ' (3rd ed.)',\n",
       "  'subtitle': '',\n",
       "  'authors': [{'name': 'Allen B. Downey',\n",
       "    'normalised_name': 'Downey, Allen B.',\n",
       "    'landing_page': '/en-ng/author/allen-b.-downey/171577/',\n",
       "    'precedence': 0,\n",
       "    'author_type_short': ''}],\n",
       "  'num_authors': 1,\n",
       "  'series': '',\n",
       "  'series_number': None,\n",
       "  'has_series': False,\n",
       "  'series_url': '',\n",
       "  'publisher': \"O'Reilly Media\",\n",
       "  'publication_year': '2024',\n",
       "  'price': 'US$41.99',\n",
       "  'description': 'Python is an excellent way to get started in programming, and this clear, concise guide walks you through Python a step at a time—beginning with basic programming concepts before moving on to functions, data structures, and object-oriented design. This revised third edition reflects the growing role of large language models (LLMs) in programming...',\n",
       "  'is_preorder': False,\n",
       "  'is_available': True,\n",
       "  'preorder_url': '/account/preorder/?bookId=211354716',\n",
       "  'add_to_cart_url': '/cart/add/211354716/',\n",
       "  'currency_symbol': 'US$',\n",
       "  'price_number': 41.99,\n",
       "  'on_sale_date': '2024-05-24T00:00:00',\n",
       "  'short_publication_date': 'May 2024'},\n",
       " {'id': 210567255,\n",
       "  'book_url': '/en-ng/book/210567255/designing-machine-learning-systems/chip-huyen/',\n",
       "  'image_url': 'https://image.ebooks.com/cover/210567255.jpg?width=97&height=150&quality=85',\n",
       "  'image_alt_tag': 'Designing Machine Learning Systems',\n",
       "  'src_set': ' https://image.ebooks.com/cover/210567255.jpg?width=97&height=150&quality=85 1x,  https://image.ebooks.com/cover/210567255.jpg?width=194&height=300&quality=85 2x,  https://image.ebooks.com/cover/210567255.jpg?width=291&height=450&quality=85 3x,  https://image.ebooks.com/cover/210567255.jpg?width=388&height=600&quality=85 4x',\n",
       "  'image_width': 97,\n",
       "  'image_height': 150,\n",
       "  'title': 'Designing Machine Learning Systems',\n",
       "  'edition': '',\n",
       "  'subtitle': '',\n",
       "  'authors': [{'name': 'Chip Huyen',\n",
       "    'normalised_name': 'Huyen, Chip',\n",
       "    'landing_page': '/en-ng/author/chip-huyen/208680985/',\n",
       "    'precedence': 0,\n",
       "    'author_type_short': ''}],\n",
       "  'num_authors': 1,\n",
       "  'series': '',\n",
       "  'series_number': None,\n",
       "  'has_series': False,\n",
       "  'series_url': '',\n",
       "  'publisher': \"O'Reilly Media\",\n",
       "  'publication_year': '2022',\n",
       "  'price': 'US$56.99',\n",
       "  'description': \"Machine learning systems are both complex and unique. Complex because they consist of many different components and involve many different stakeholders. Unique because they're data dependent, with data varying wildly from one use case to the next. In this book, you'll learn a holistic approach to designing ML systems that are reliable, scalable,...\",\n",
       "  'is_preorder': False,\n",
       "  'is_available': True,\n",
       "  'preorder_url': '/account/preorder/?bookId=210567255',\n",
       "  'add_to_cart_url': '/cart/add/210567255/',\n",
       "  'currency_symbol': 'US$',\n",
       "  'price_number': 56.99,\n",
       "  'on_sale_date': '2022-05-17T00:00:00',\n",
       "  'short_publication_date': 'May 2022'},\n",
       " {'id': 209933784,\n",
       "  'book_url': '/en-ng/book/209933784/fundamentals-of-software-architecture/mark-richards/',\n",
       "  'image_url': 'https://image.ebooks.com/cover/209933784.jpg?width=97&height=150&quality=85',\n",
       "  'image_alt_tag': 'Fundamentals of Software Architecture: An Engineering Approach',\n",
       "  'src_set': ' https://image.ebooks.com/cover/209933784.jpg?width=97&height=150&quality=85 1x,  https://image.ebooks.com/cover/209933784.jpg?width=194&height=300&quality=85 2x,  https://image.ebooks.com/cover/209933784.jpg?width=291&height=450&quality=85 3x,  https://image.ebooks.com/cover/209933784.jpg?width=388&height=600&quality=85 4x',\n",
       "  'image_width': 97,\n",
       "  'image_height': 150,\n",
       "  'title': 'Fundamentals of Software Architecture',\n",
       "  'edition': '',\n",
       "  'subtitle': 'An Engineering Approach',\n",
       "  'authors': [{'name': 'Mark Richards',\n",
       "    'normalised_name': 'Richards, Mark',\n",
       "    'landing_page': '/en-ng/author/mark-richards/183013/',\n",
       "    'precedence': 0,\n",
       "    'author_type_short': ''},\n",
       "   {'name': 'Neal Ford',\n",
       "    'normalised_name': 'Ford, Neal',\n",
       "    'landing_page': '/en-ng/author/neal-ford/182946/',\n",
       "    'precedence': 0,\n",
       "    'author_type_short': ''}],\n",
       "  'num_authors': 2,\n",
       "  'series': '',\n",
       "  'series_number': None,\n",
       "  'has_series': False,\n",
       "  'series_url': '',\n",
       "  'publisher': \"O'Reilly Media\",\n",
       "  'publication_year': '2020',\n",
       "  'price': 'US$67.99',\n",
       "  'description': 'Salary surveys worldwide regularly place software architect in the top 10 best jobs, yet no real guide exists to help developers become architects. Until now. This book provides the first comprehensive overview of software architecture’s many aspects. Aspiring and existing architects alike will examine architectural characteristics,...',\n",
       "  'is_preorder': False,\n",
       "  'is_available': True,\n",
       "  'preorder_url': '/account/preorder/?bookId=209933784',\n",
       "  'add_to_cart_url': '/cart/add/209933784/',\n",
       "  'currency_symbol': 'US$',\n",
       "  'price_number': 67.99,\n",
       "  'on_sale_date': '2020-01-28T00:00:00',\n",
       "  'short_publication_date': 'Jan 2020'},\n",
       " {'id': 210833591,\n",
       "  'book_url': '/en-ng/book/210833591/generative-deep-learning/david-foster/',\n",
       "  'image_url': 'https://image.ebooks.com/cover/210833591.jpg?width=97&height=150&quality=85',\n",
       "  'image_alt_tag': 'Generative Deep Learning',\n",
       "  'src_set': ' https://image.ebooks.com/cover/210833591.jpg?width=97&height=150&quality=85 1x,  https://image.ebooks.com/cover/210833591.jpg?width=194&height=300&quality=85 2x,  https://image.ebooks.com/cover/210833591.jpg?width=291&height=450&quality=85 3x,  https://image.ebooks.com/cover/210833591.jpg?width=388&height=600&quality=85 4x',\n",
       "  'image_width': 97,\n",
       "  'image_height': 150,\n",
       "  'title': 'Generative Deep Learning',\n",
       "  'edition': ' (2nd ed.)',\n",
       "  'subtitle': '',\n",
       "  'authors': [{'name': 'David Foster',\n",
       "    'normalised_name': 'Foster, David',\n",
       "    'landing_page': '/en-ng/author/david-foster/7762/',\n",
       "    'precedence': 0,\n",
       "    'author_type_short': ''}],\n",
       "  'num_authors': 1,\n",
       "  'series': '',\n",
       "  'series_number': None,\n",
       "  'has_series': False,\n",
       "  'series_url': '',\n",
       "  'publisher': \"O'Reilly Media\",\n",
       "  'publication_year': '2022',\n",
       "  'price': 'US$67.99',\n",
       "  'description': 'Generative AI is the hottest topic in tech. This practical book teaches machine learning engineers and data scientists how to use TensorFlow and Keras to create impressive generative deep learning models from scratch, including variational autoencoders (VAEs), generative adversarial networks (GANs), Transformers, normalizing flows, energy-based...',\n",
       "  'is_preorder': False,\n",
       "  'is_available': True,\n",
       "  'preorder_url': '/account/preorder/?bookId=210833591',\n",
       "  'add_to_cart_url': '/cart/add/210833591/',\n",
       "  'currency_symbol': 'US$',\n",
       "  'price_number': 67.99,\n",
       "  'on_sale_date': '2023-04-28T00:00:00',\n",
       "  'short_publication_date': 'Jun 2022'},\n",
       " {'id': 210579128,\n",
       "  'book_url': '/en-ng/book/210579128/learning-typescript/josh-goldberg/',\n",
       "  'image_url': 'https://image.ebooks.com/cover/210579128.jpg?width=97&height=150&quality=85',\n",
       "  'image_alt_tag': 'Learning TypeScript',\n",
       "  'src_set': ' https://image.ebooks.com/cover/210579128.jpg?width=97&height=150&quality=85 1x,  https://image.ebooks.com/cover/210579128.jpg?width=194&height=300&quality=85 2x,  https://image.ebooks.com/cover/210579128.jpg?width=291&height=450&quality=85 3x,  https://image.ebooks.com/cover/210579128.jpg?width=388&height=600&quality=85 4x',\n",
       "  'image_width': 97,\n",
       "  'image_height': 150,\n",
       "  'title': 'Learning TypeScript',\n",
       "  'edition': '',\n",
       "  'subtitle': '',\n",
       "  'authors': [{'name': 'Josh Goldberg',\n",
       "    'normalised_name': 'Goldberg, Josh',\n",
       "    'landing_page': '/en-ng/author/josh-goldberg/208685496/',\n",
       "    'precedence': 0,\n",
       "    'author_type_short': ''}],\n",
       "  'num_authors': 1,\n",
       "  'series': '',\n",
       "  'series_number': None,\n",
       "  'has_series': False,\n",
       "  'series_url': '',\n",
       "  'publisher': \"O'Reilly Media\",\n",
       "  'publication_year': '2022',\n",
       "  'price': 'US$47.99',\n",
       "  'description': \"TypeScript has conquered the world of JavaScript. Identified in developer surveys as one of the world's fastest growing and most popular languages, TypeScript is widely used in consumer and business companies across the world and is frequently credited for helping massive web applications scale. But what exactly is TypeScript? How and why does...\",\n",
       "  'is_preorder': False,\n",
       "  'is_available': True,\n",
       "  'preorder_url': '/account/preorder/?bookId=210579128',\n",
       "  'add_to_cart_url': '/cart/add/210579128/',\n",
       "  'currency_symbol': 'US$',\n",
       "  'price_number': 47.99,\n",
       "  'on_sale_date': '2022-06-03T00:00:00',\n",
       "  'short_publication_date': 'Jun 2022'},\n",
       " {'id': 211331399,\n",
       "  'book_url': '/en-ng/book/211331399/modern-data-analytics-in-excel/george-mount/',\n",
       "  'image_url': 'https://image.ebooks.com/cover/211331399.jpg?width=97&height=150&quality=85',\n",
       "  'image_alt_tag': 'Modern Data Analytics in Excel',\n",
       "  'src_set': ' https://image.ebooks.com/cover/211331399.jpg?width=97&height=150&quality=85 1x,  https://image.ebooks.com/cover/211331399.jpg?width=194&height=300&quality=85 2x,  https://image.ebooks.com/cover/211331399.jpg?width=291&height=450&quality=85 3x,  https://image.ebooks.com/cover/211331399.jpg?width=388&height=600&quality=85 4x',\n",
       "  'image_width': 97,\n",
       "  'image_height': 150,\n",
       "  'title': 'Modern Data Analytics in Excel',\n",
       "  'edition': '',\n",
       "  'subtitle': '',\n",
       "  'authors': [{'name': 'George Mount',\n",
       "    'normalised_name': 'Mount, George',\n",
       "    'landing_page': '/en-ng/author/george-mount/208550942/',\n",
       "    'precedence': 0,\n",
       "    'author_type_short': ''}],\n",
       "  'num_authors': 1,\n",
       "  'series': '',\n",
       "  'series_number': None,\n",
       "  'has_series': False,\n",
       "  'series_url': '',\n",
       "  'publisher': \"O'Reilly Media\",\n",
       "  'publication_year': '2024',\n",
       "  'price': 'US$50.99',\n",
       "  'description': \"If you haven't modernized your data cleaning and reporting processes in Microsoft Excel, you're missing out on big productivity gains. And if you're looking to conduct rigorous data analysis, more can be done in Excel than you think. This practical book serves as an introduction to the modern Excel suite of features along with other powerful...\",\n",
       "  'is_preorder': False,\n",
       "  'is_available': True,\n",
       "  'preorder_url': '/account/preorder/?bookId=211331399',\n",
       "  'add_to_cart_url': '/cart/add/211331399/',\n",
       "  'currency_symbol': 'US$',\n",
       "  'price_number': 50.99,\n",
       "  'on_sale_date': '2024-04-26T00:00:00',\n",
       "  'short_publication_date': 'Apr 2024'},\n",
       " {'id': 210670147,\n",
       "  'book_url': '/en-ng/book/210670147/the-staff-engineer-s-path/tanya-reilly/',\n",
       "  'image_url': 'https://image.ebooks.com/cover/210670147.jpg?width=97&height=150&quality=85',\n",
       "  'image_alt_tag': 'The Staff Engineer&#x27;s Path',\n",
       "  'src_set': ' https://image.ebooks.com/cover/210670147.jpg?width=97&height=150&quality=85 1x,  https://image.ebooks.com/cover/210670147.jpg?width=194&height=300&quality=85 2x,  https://image.ebooks.com/cover/210670147.jpg?width=291&height=450&quality=85 3x,  https://image.ebooks.com/cover/210670147.jpg?width=388&height=600&quality=85 4x',\n",
       "  'image_width': 97,\n",
       "  'image_height': 150,\n",
       "  'title': \"The Staff Engineer's Path\",\n",
       "  'edition': '',\n",
       "  'subtitle': '',\n",
       "  'authors': [{'name': 'Tanya Reilly',\n",
       "    'normalised_name': 'Reilly, Tanya',\n",
       "    'landing_page': '/en-ng/author/tanya-reilly/208722527/',\n",
       "    'precedence': 0,\n",
       "    'author_type_short': ''}],\n",
       "  'num_authors': 1,\n",
       "  'series': '',\n",
       "  'series_number': None,\n",
       "  'has_series': False,\n",
       "  'series_url': '',\n",
       "  'publisher': \"O'Reilly Media\",\n",
       "  'publication_year': '2022',\n",
       "  'price': 'US$33.99',\n",
       "  'description': \"For years, companies have rewarded their most effective engineers with management positions. But treating management as the default path for an engineer with leadership ability doesn't serve the industry well--or the engineer. The staff engineer's path allows engineers to contribute at a high level as role models, driving big projects,...\",\n",
       "  'is_preorder': False,\n",
       "  'is_available': True,\n",
       "  'preorder_url': '/account/preorder/?bookId=210670147',\n",
       "  'add_to_cart_url': '/cart/add/210670147/',\n",
       "  'currency_symbol': 'US$',\n",
       "  'price_number': 33.99,\n",
       "  'on_sale_date': '2022-09-20T00:00:00',\n",
       "  'short_publication_date': 'Sep 2022'},\n",
       " {'id': 210595152,\n",
       "  'book_url': '/en-ng/book/210595152/fundamentals-of-data-engineering/joe-reis/',\n",
       "  'image_url': 'https://image.ebooks.com/cover/210595152.jpg?width=97&height=150&quality=85',\n",
       "  'image_alt_tag': 'Fundamentals of Data Engineering',\n",
       "  'src_set': ' https://image.ebooks.com/cover/210595152.jpg?width=97&height=150&quality=85 1x,  https://image.ebooks.com/cover/210595152.jpg?width=194&height=300&quality=85 2x,  https://image.ebooks.com/cover/210595152.jpg?width=291&height=450&quality=85 3x,  https://image.ebooks.com/cover/210595152.jpg?width=388&height=600&quality=85 4x',\n",
       "  'image_width': 97,\n",
       "  'image_height': 150,\n",
       "  'title': 'Fundamentals of Data Engineering',\n",
       "  'edition': '',\n",
       "  'subtitle': '',\n",
       "  'authors': [{'name': 'Joe Reis',\n",
       "    'normalised_name': 'Reis, Joe',\n",
       "    'landing_page': '/en-ng/author/joe-reis/208694572/',\n",
       "    'precedence': 0,\n",
       "    'author_type_short': ''},\n",
       "   {'name': 'Matt Housley',\n",
       "    'normalised_name': 'Housley, Matt',\n",
       "    'landing_page': '/en-ng/author/matt-housley/208694573/',\n",
       "    'precedence': 0,\n",
       "    'author_type_short': ''}],\n",
       "  'num_authors': 2,\n",
       "  'series': '',\n",
       "  'series_number': None,\n",
       "  'has_series': False,\n",
       "  'series_url': '',\n",
       "  'publisher': \"O'Reilly Media\",\n",
       "  'publication_year': '2022',\n",
       "  'price': 'US$67.99',\n",
       "  'description': \"Data engineering has grown rapidly in the past decade, leaving many software engineers, data scientists, and analysts looking for a comprehensive view of this practice. With this practical book, you'll learn how to plan and build systems to serve the needs of your organization and customers by evaluating the best technologies available through...\",\n",
       "  'is_preorder': False,\n",
       "  'is_available': True,\n",
       "  'preorder_url': '/account/preorder/?bookId=210595152',\n",
       "  'add_to_cart_url': '/cart/add/210595152/',\n",
       "  'currency_symbol': 'US$',\n",
       "  'price_number': 67.99,\n",
       "  'on_sale_date': '2022-06-22T00:00:00',\n",
       "  'short_publication_date': 'Jun 2022'},\n",
       " {'id': 210669494,\n",
       "  'book_url': '/en-ng/book/210669494/terraform-up-and-running/yevgeniy-brikman/',\n",
       "  'image_url': 'https://image.ebooks.com/cover/210669494.jpg?width=97&height=150&quality=85',\n",
       "  'image_alt_tag': 'Terraform: Up and Running',\n",
       "  'src_set': ' https://image.ebooks.com/cover/210669494.jpg?width=97&height=150&quality=85 1x,  https://image.ebooks.com/cover/210669494.jpg?width=194&height=300&quality=85 2x,  https://image.ebooks.com/cover/210669494.jpg?width=291&height=450&quality=85 3x,  https://image.ebooks.com/cover/210669494.jpg?width=388&height=600&quality=85 4x',\n",
       "  'image_width': 97,\n",
       "  'image_height': 150,\n",
       "  'title': 'Terraform: Up and Running',\n",
       "  'edition': ' (3rd ed.)',\n",
       "  'subtitle': '',\n",
       "  'authors': [{'name': 'Yevgeniy Brikman',\n",
       "    'normalised_name': 'Brikman, Yevgeniy',\n",
       "    'landing_page': '/en-ng/author/yevgeniy-brikman/1005582/',\n",
       "    'precedence': 0,\n",
       "    'author_type_short': ''}],\n",
       "  'num_authors': 1,\n",
       "  'series': '',\n",
       "  'series_number': None,\n",
       "  'has_series': False,\n",
       "  'series_url': '',\n",
       "  'publisher': \"O'Reilly Media\",\n",
       "  'publication_year': '2022',\n",
       "  'price': 'US$56.99',\n",
       "  'description': 'Terraform has become a key player in the DevOps world for defining, launching, and managing infrastructure as code (IaC) across a variety of cloud and virtualization platforms, including AWS, Google Cloud, Azure, and more. This hands-on third edition, expanded and thoroughly updated for version 1.0 and beyond, shows you the fastest way to get up...',\n",
       "  'is_preorder': False,\n",
       "  'is_available': True,\n",
       "  'preorder_url': '/account/preorder/?bookId=210669494',\n",
       "  'add_to_cart_url': '/cart/add/210669494/',\n",
       "  'currency_symbol': 'US$',\n",
       "  'price_number': 56.99,\n",
       "  'on_sale_date': '2022-09-19T00:00:00',\n",
       "  'short_publication_date': 'Sep 2022'}]"
      ]
     },
     "execution_count": 21,
     "metadata": {},
     "output_type": "execute_result"
    }
   ],
   "source": [
    "results_json"
   ]
  },
  {
   "cell_type": "code",
   "execution_count": 23,
   "id": "9d9ee4f9",
   "metadata": {},
   "outputs": [
    {
     "data": {
      "text/plain": [
       "'Building Multi-Tenant SaaS Architectures'"
      ]
     },
     "execution_count": 23,
     "metadata": {},
     "output_type": "execute_result"
    }
   ],
   "source": [
    "# title\n",
    "results_json[0]['title']"
   ]
  },
  {
   "cell_type": "code",
   "execution_count": 24,
   "id": "ce35f0a3",
   "metadata": {},
   "outputs": [
    {
     "data": {
      "text/plain": [
       "'Tod Golding'"
      ]
     },
     "execution_count": 24,
     "metadata": {},
     "output_type": "execute_result"
    }
   ],
   "source": [
    "# author\n",
    "results_json[0]['authors'][0]['name']"
   ]
  },
  {
   "cell_type": "code",
   "execution_count": 25,
   "id": "4724c9ae",
   "metadata": {},
   "outputs": [
    {
     "data": {
      "text/plain": [
       "\"O'Reilly Media\""
      ]
     },
     "execution_count": 25,
     "metadata": {},
     "output_type": "execute_result"
    }
   ],
   "source": [
    "# publisher\n",
    "results_json[0]['publisher']"
   ]
  },
  {
   "cell_type": "code",
   "execution_count": 26,
   "id": "ba7765a4",
   "metadata": {},
   "outputs": [
    {
     "data": {
      "text/plain": [
       "'2024'"
      ]
     },
     "execution_count": 26,
     "metadata": {},
     "output_type": "execute_result"
    }
   ],
   "source": [
    "# publiication_year\n",
    "results_json[0]['publication_year']"
   ]
  },
  {
   "cell_type": "code",
   "execution_count": 27,
   "id": "74c0809f",
   "metadata": {},
   "outputs": [
    {
     "data": {
      "text/plain": [
       "'Software as a service (SaaS) is on the path to becoming the de facto model for building, delivering, and operating software solutions. Adopting a multi-tenant SaaS model requires builders to take on a broad range of new architecture, implementation, and operational challenges. How data is partitioned, how resources are isolated, how tenants are...'"
      ]
     },
     "execution_count": 27,
     "metadata": {},
     "output_type": "execute_result"
    }
   ],
   "source": [
    "# description\n",
    "results_json[0]['description']"
   ]
  },
  {
   "cell_type": "code",
   "execution_count": 28,
   "id": "80e33fbc",
   "metadata": {},
   "outputs": [
    {
     "data": {
      "text/plain": [
       "'US$67.99'"
      ]
     },
     "execution_count": 28,
     "metadata": {},
     "output_type": "execute_result"
    }
   ],
   "source": [
    "# price\n",
    "results_json[0]['price']"
   ]
  },
  {
   "cell_type": "markdown",
   "id": "0fad5384",
   "metadata": {},
   "source": [
    "## Step 7 - Put everything together - Loop through results and append data inside a list"
   ]
  },
  {
   "cell_type": "code",
   "execution_count": 29,
   "id": "2068c39f",
   "metadata": {},
   "outputs": [],
   "source": [
    "title = []\n",
    "author = []\n",
    "publisher = []\n",
    "publication_year = []\n",
    "description = []\n",
    "price = []\n",
    "\n",
    "for result in results_json:\n",
    "    \n",
    "    # title\n",
    "    title.append(result['title'])\n",
    "    \n",
    "    # author\n",
    "    author.append(result['authors'][0]['name'])\n",
    "    \n",
    "    # publisher\n",
    "    publisher.append(result['publisher'])\n",
    "\n",
    "    # publication year\n",
    "    publication_year.append(result['publication_year'])\n",
    "    \n",
    "    # description\n",
    "    description.append(result['description'])\n",
    "    \n",
    "    # price\n",
    "    price.append(result['price'])\n",
    "    "
   ]
  },
  {
   "cell_type": "markdown",
   "id": "c2a87404",
   "metadata": {},
   "source": [
    "### Carry out cross checks"
   ]
  },
  {
   "cell_type": "code",
   "execution_count": 30,
   "id": "a767d32d",
   "metadata": {},
   "outputs": [
    {
     "data": {
      "text/plain": [
       "['Building Multi-Tenant SaaS Architectures',\n",
       " 'Think Python',\n",
       " 'Designing Machine Learning Systems',\n",
       " 'Fundamentals of Software Architecture',\n",
       " 'Generative Deep Learning',\n",
       " 'Learning TypeScript',\n",
       " 'Modern Data Analytics in Excel',\n",
       " \"The Staff Engineer's Path\",\n",
       " 'Fundamentals of Data Engineering',\n",
       " 'Terraform: Up and Running']"
      ]
     },
     "execution_count": 30,
     "metadata": {},
     "output_type": "execute_result"
    }
   ],
   "source": [
    "title"
   ]
  },
  {
   "cell_type": "code",
   "execution_count": 31,
   "id": "99ad5905",
   "metadata": {},
   "outputs": [
    {
     "data": {
      "text/plain": [
       "['Tod Golding',\n",
       " 'Allen B. Downey',\n",
       " 'Chip Huyen',\n",
       " 'Mark Richards',\n",
       " 'David Foster',\n",
       " 'Josh Goldberg',\n",
       " 'George Mount',\n",
       " 'Tanya Reilly',\n",
       " 'Joe Reis',\n",
       " 'Yevgeniy Brikman']"
      ]
     },
     "execution_count": 31,
     "metadata": {},
     "output_type": "execute_result"
    }
   ],
   "source": [
    "author"
   ]
  },
  {
   "cell_type": "code",
   "execution_count": 32,
   "id": "0cfdb6c6",
   "metadata": {},
   "outputs": [
    {
     "data": {
      "text/plain": [
       "[\"O'Reilly Media\",\n",
       " \"O'Reilly Media\",\n",
       " \"O'Reilly Media\",\n",
       " \"O'Reilly Media\",\n",
       " \"O'Reilly Media\",\n",
       " \"O'Reilly Media\",\n",
       " \"O'Reilly Media\",\n",
       " \"O'Reilly Media\",\n",
       " \"O'Reilly Media\",\n",
       " \"O'Reilly Media\"]"
      ]
     },
     "execution_count": 32,
     "metadata": {},
     "output_type": "execute_result"
    }
   ],
   "source": [
    "publisher"
   ]
  },
  {
   "cell_type": "code",
   "execution_count": 33,
   "id": "70e3a3c8",
   "metadata": {},
   "outputs": [
    {
     "data": {
      "text/plain": [
       "['2024',\n",
       " '2024',\n",
       " '2022',\n",
       " '2020',\n",
       " '2022',\n",
       " '2022',\n",
       " '2024',\n",
       " '2022',\n",
       " '2022',\n",
       " '2022']"
      ]
     },
     "execution_count": 33,
     "metadata": {},
     "output_type": "execute_result"
    }
   ],
   "source": [
    "publication_year"
   ]
  },
  {
   "cell_type": "code",
   "execution_count": 34,
   "id": "bd41bbd8",
   "metadata": {},
   "outputs": [
    {
     "data": {
      "text/plain": [
       "['Software as a service (SaaS) is on the path to becoming the de facto model for building, delivering, and operating software solutions. Adopting a multi-tenant SaaS model requires builders to take on a broad range of new architecture, implementation, and operational challenges. How data is partitioned, how resources are isolated, how tenants are...',\n",
       " 'Python is an excellent way to get started in programming, and this clear, concise guide walks you through Python a step at a time—beginning with basic programming concepts before moving on to functions, data structures, and object-oriented design. This revised third edition reflects the growing role of large language models (LLMs) in programming...',\n",
       " \"Machine learning systems are both complex and unique. Complex because they consist of many different components and involve many different stakeholders. Unique because they're data dependent, with data varying wildly from one use case to the next. In this book, you'll learn a holistic approach to designing ML systems that are reliable, scalable,...\",\n",
       " 'Salary surveys worldwide regularly place software architect in the top 10 best jobs, yet no real guide exists to help developers become architects. Until now. This book provides the first comprehensive overview of software architecture’s many aspects. Aspiring and existing architects alike will examine architectural characteristics,...',\n",
       " 'Generative AI is the hottest topic in tech. This practical book teaches machine learning engineers and data scientists how to use TensorFlow and Keras to create impressive generative deep learning models from scratch, including variational autoencoders (VAEs), generative adversarial networks (GANs), Transformers, normalizing flows, energy-based...',\n",
       " \"TypeScript has conquered the world of JavaScript. Identified in developer surveys as one of the world's fastest growing and most popular languages, TypeScript is widely used in consumer and business companies across the world and is frequently credited for helping massive web applications scale. But what exactly is TypeScript? How and why does...\",\n",
       " \"If you haven't modernized your data cleaning and reporting processes in Microsoft Excel, you're missing out on big productivity gains. And if you're looking to conduct rigorous data analysis, more can be done in Excel than you think. This practical book serves as an introduction to the modern Excel suite of features along with other powerful...\",\n",
       " \"For years, companies have rewarded their most effective engineers with management positions. But treating management as the default path for an engineer with leadership ability doesn't serve the industry well--or the engineer. The staff engineer's path allows engineers to contribute at a high level as role models, driving big projects,...\",\n",
       " \"Data engineering has grown rapidly in the past decade, leaving many software engineers, data scientists, and analysts looking for a comprehensive view of this practice. With this practical book, you'll learn how to plan and build systems to serve the needs of your organization and customers by evaluating the best technologies available through...\",\n",
       " 'Terraform has become a key player in the DevOps world for defining, launching, and managing infrastructure as code (IaC) across a variety of cloud and virtualization platforms, including AWS, Google Cloud, Azure, and more. This hands-on third edition, expanded and thoroughly updated for version 1.0 and beyond, shows you the fastest way to get up...']"
      ]
     },
     "execution_count": 34,
     "metadata": {},
     "output_type": "execute_result"
    }
   ],
   "source": [
    "description"
   ]
  },
  {
   "cell_type": "code",
   "execution_count": 35,
   "id": "de674235",
   "metadata": {},
   "outputs": [
    {
     "data": {
      "text/plain": [
       "['US$67.99',\n",
       " 'US$41.99',\n",
       " 'US$56.99',\n",
       " 'US$67.99',\n",
       " 'US$67.99',\n",
       " 'US$47.99',\n",
       " 'US$50.99',\n",
       " 'US$33.99',\n",
       " 'US$67.99',\n",
       " 'US$56.99']"
      ]
     },
     "execution_count": 35,
     "metadata": {},
     "output_type": "execute_result"
    }
   ],
   "source": [
    "price"
   ]
  },
  {
   "cell_type": "markdown",
   "id": "d71729a7",
   "metadata": {},
   "source": [
    "## Step 8 - Pandas Dataframe"
   ]
  },
  {
   "cell_type": "code",
   "execution_count": 36,
   "id": "181c15c7",
   "metadata": {},
   "outputs": [],
   "source": [
    "books_df = pd.DataFrame({'Title':title, 'Author':author, 'Publisher':publisher, 'Publication Year':publication_year, 'Description':description, 'Price':price})"
   ]
  },
  {
   "cell_type": "code",
   "execution_count": 37,
   "id": "3fc63cfb",
   "metadata": {},
   "outputs": [
    {
     "data": {
      "text/html": [
       "<div>\n",
       "<style scoped>\n",
       "    .dataframe tbody tr th:only-of-type {\n",
       "        vertical-align: middle;\n",
       "    }\n",
       "\n",
       "    .dataframe tbody tr th {\n",
       "        vertical-align: top;\n",
       "    }\n",
       "\n",
       "    .dataframe thead th {\n",
       "        text-align: right;\n",
       "    }\n",
       "</style>\n",
       "<table border=\"1\" class=\"dataframe\">\n",
       "  <thead>\n",
       "    <tr style=\"text-align: right;\">\n",
       "      <th></th>\n",
       "      <th>Title</th>\n",
       "      <th>Author</th>\n",
       "      <th>Publisher</th>\n",
       "      <th>Publication Year</th>\n",
       "      <th>Description</th>\n",
       "      <th>Price</th>\n",
       "    </tr>\n",
       "  </thead>\n",
       "  <tbody>\n",
       "    <tr>\n",
       "      <th>0</th>\n",
       "      <td>Building Multi-Tenant SaaS Architectures</td>\n",
       "      <td>Tod Golding</td>\n",
       "      <td>O'Reilly Media</td>\n",
       "      <td>2024</td>\n",
       "      <td>Software as a service (SaaS) is on the path to...</td>\n",
       "      <td>US$67.99</td>\n",
       "    </tr>\n",
       "    <tr>\n",
       "      <th>1</th>\n",
       "      <td>Think Python</td>\n",
       "      <td>Allen B. Downey</td>\n",
       "      <td>O'Reilly Media</td>\n",
       "      <td>2024</td>\n",
       "      <td>Python is an excellent way to get started in p...</td>\n",
       "      <td>US$41.99</td>\n",
       "    </tr>\n",
       "    <tr>\n",
       "      <th>2</th>\n",
       "      <td>Designing Machine Learning Systems</td>\n",
       "      <td>Chip Huyen</td>\n",
       "      <td>O'Reilly Media</td>\n",
       "      <td>2022</td>\n",
       "      <td>Machine learning systems are both complex and ...</td>\n",
       "      <td>US$56.99</td>\n",
       "    </tr>\n",
       "    <tr>\n",
       "      <th>3</th>\n",
       "      <td>Fundamentals of Software Architecture</td>\n",
       "      <td>Mark Richards</td>\n",
       "      <td>O'Reilly Media</td>\n",
       "      <td>2020</td>\n",
       "      <td>Salary surveys worldwide regularly place softw...</td>\n",
       "      <td>US$67.99</td>\n",
       "    </tr>\n",
       "    <tr>\n",
       "      <th>4</th>\n",
       "      <td>Generative Deep Learning</td>\n",
       "      <td>David Foster</td>\n",
       "      <td>O'Reilly Media</td>\n",
       "      <td>2022</td>\n",
       "      <td>Generative AI is the hottest topic in tech. Th...</td>\n",
       "      <td>US$67.99</td>\n",
       "    </tr>\n",
       "    <tr>\n",
       "      <th>5</th>\n",
       "      <td>Learning TypeScript</td>\n",
       "      <td>Josh Goldberg</td>\n",
       "      <td>O'Reilly Media</td>\n",
       "      <td>2022</td>\n",
       "      <td>TypeScript has conquered the world of JavaScri...</td>\n",
       "      <td>US$47.99</td>\n",
       "    </tr>\n",
       "    <tr>\n",
       "      <th>6</th>\n",
       "      <td>Modern Data Analytics in Excel</td>\n",
       "      <td>George Mount</td>\n",
       "      <td>O'Reilly Media</td>\n",
       "      <td>2024</td>\n",
       "      <td>If you haven't modernized your data cleaning a...</td>\n",
       "      <td>US$50.99</td>\n",
       "    </tr>\n",
       "    <tr>\n",
       "      <th>7</th>\n",
       "      <td>The Staff Engineer's Path</td>\n",
       "      <td>Tanya Reilly</td>\n",
       "      <td>O'Reilly Media</td>\n",
       "      <td>2022</td>\n",
       "      <td>For years, companies have rewarded their most ...</td>\n",
       "      <td>US$33.99</td>\n",
       "    </tr>\n",
       "    <tr>\n",
       "      <th>8</th>\n",
       "      <td>Fundamentals of Data Engineering</td>\n",
       "      <td>Joe Reis</td>\n",
       "      <td>O'Reilly Media</td>\n",
       "      <td>2022</td>\n",
       "      <td>Data engineering has grown rapidly in the past...</td>\n",
       "      <td>US$67.99</td>\n",
       "    </tr>\n",
       "    <tr>\n",
       "      <th>9</th>\n",
       "      <td>Terraform: Up and Running</td>\n",
       "      <td>Yevgeniy Brikman</td>\n",
       "      <td>O'Reilly Media</td>\n",
       "      <td>2022</td>\n",
       "      <td>Terraform has become a key player in the DevOp...</td>\n",
       "      <td>US$56.99</td>\n",
       "    </tr>\n",
       "  </tbody>\n",
       "</table>\n",
       "</div>"
      ],
      "text/plain": [
       "                                      Title            Author       Publisher  \\\n",
       "0  Building Multi-Tenant SaaS Architectures       Tod Golding  O'Reilly Media   \n",
       "1                              Think Python   Allen B. Downey  O'Reilly Media   \n",
       "2        Designing Machine Learning Systems        Chip Huyen  O'Reilly Media   \n",
       "3     Fundamentals of Software Architecture     Mark Richards  O'Reilly Media   \n",
       "4                  Generative Deep Learning      David Foster  O'Reilly Media   \n",
       "5                       Learning TypeScript     Josh Goldberg  O'Reilly Media   \n",
       "6            Modern Data Analytics in Excel      George Mount  O'Reilly Media   \n",
       "7                 The Staff Engineer's Path      Tanya Reilly  O'Reilly Media   \n",
       "8          Fundamentals of Data Engineering          Joe Reis  O'Reilly Media   \n",
       "9                 Terraform: Up and Running  Yevgeniy Brikman  O'Reilly Media   \n",
       "\n",
       "  Publication Year                                        Description  \\\n",
       "0             2024  Software as a service (SaaS) is on the path to...   \n",
       "1             2024  Python is an excellent way to get started in p...   \n",
       "2             2022  Machine learning systems are both complex and ...   \n",
       "3             2020  Salary surveys worldwide regularly place softw...   \n",
       "4             2022  Generative AI is the hottest topic in tech. Th...   \n",
       "5             2022  TypeScript has conquered the world of JavaScri...   \n",
       "6             2024  If you haven't modernized your data cleaning a...   \n",
       "7             2022  For years, companies have rewarded their most ...   \n",
       "8             2022  Data engineering has grown rapidly in the past...   \n",
       "9             2022  Terraform has become a key player in the DevOp...   \n",
       "\n",
       "      Price  \n",
       "0  US$67.99  \n",
       "1  US$41.99  \n",
       "2  US$56.99  \n",
       "3  US$67.99  \n",
       "4  US$67.99  \n",
       "5  US$47.99  \n",
       "6  US$50.99  \n",
       "7  US$33.99  \n",
       "8  US$67.99  \n",
       "9  US$56.99  "
      ]
     },
     "execution_count": 37,
     "metadata": {},
     "output_type": "execute_result"
    }
   ],
   "source": [
    "books_df"
   ]
  },
  {
   "cell_type": "markdown",
   "id": "d5e55687",
   "metadata": {},
   "source": [
    "## Step 9 - Store results in Excel"
   ]
  },
  {
   "cell_type": "code",
   "execution_count": 38,
   "id": "04ef31ec",
   "metadata": {},
   "outputs": [],
   "source": [
    "books_df.to_excel('books.xlsx', index=False)"
   ]
  },
  {
   "cell_type": "markdown",
   "id": "28464df6",
   "metadata": {},
   "source": [
    "## Step 10 - Multiple Pages"
   ]
  },
  {
   "cell_type": "code",
   "execution_count": 46,
   "id": "5d4b0e46",
   "metadata": {},
   "outputs": [],
   "source": [
    "headers = {\n",
    "    '^sec-ch-ua': '^\\\\^Not/A)Brand^\\\\^;v=^\\\\^8^\\\\^, ^\\\\^Chromium^\\\\^;v=^\\\\^126^\\\\^, ^\\\\^Google',\n",
    "    '^sec-ch-ua-platform': '^\\\\^Windows^\\\\^^',\n",
    "    'Referer': 'https://www.ebooks.com/en-ng/category/computers/5204/',\n",
    "    'sec-ch-ua-mobile': '?0',\n",
    "    'User-Agent': 'Mozilla/5.0 (Windows NT 10.0; Win64; x64) AppleWebKit/537.36 (KHTML, like Gecko) Chrome/126.0.0.0 Safari/537.36',\n",
    "    'Content-Type': 'application/json',\n",
    "}\n",
    "\n",
    "title = []\n",
    "author = []\n",
    "publisher = []\n",
    "publication_year = []\n",
    "description = []\n",
    "price = []\n",
    "\n",
    "for i in range(1,11):\n",
    "    \n",
    "    params = (\n",
    "        ('pageNumber', str(i)),\n",
    "        ('CountryCode', 'NG'),\n",
    "        ('bisacId', '5204'),\n",
    "    )\n",
    "    \n",
    "    # reponse variable for the get request\n",
    "    response = requests.get('https://www.ebooks.com/api/search/bisac/', headers=headers, params=params)\n",
    "    \n",
    "    # json object\n",
    "    results_json = response.json()['books']\n",
    "    \n",
    "   \n",
    "    for result in results_json:\n",
    "    \n",
    "        # title\n",
    "        title.append(result['title'])\n",
    "\n",
    "        # author\n",
    "        author.append(result['authors'][0]['name'])\n",
    "\n",
    "        # publisher\n",
    "        publisher.append(result['publisher'])\n",
    "\n",
    "        # publication year\n",
    "        publication_year.append(result['publication_year'])\n",
    "\n",
    "        # description\n",
    "        description.append(result['description'])\n",
    "\n",
    "        # price\n",
    "        price.append(result['price'])\n"
   ]
  },
  {
   "cell_type": "code",
   "execution_count": 47,
   "id": "a751cf02",
   "metadata": {},
   "outputs": [],
   "source": [
    "books_multiple_df = pd.DataFrame({'Title':title, 'Author':author, 'Publisher':publisher, 'Publication Year':publication_year, 'Description':description, 'Price':price})"
   ]
  },
  {
   "cell_type": "code",
   "execution_count": 48,
   "id": "aa486067",
   "metadata": {},
   "outputs": [
    {
     "data": {
      "text/html": [
       "<div>\n",
       "<style scoped>\n",
       "    .dataframe tbody tr th:only-of-type {\n",
       "        vertical-align: middle;\n",
       "    }\n",
       "\n",
       "    .dataframe tbody tr th {\n",
       "        vertical-align: top;\n",
       "    }\n",
       "\n",
       "    .dataframe thead th {\n",
       "        text-align: right;\n",
       "    }\n",
       "</style>\n",
       "<table border=\"1\" class=\"dataframe\">\n",
       "  <thead>\n",
       "    <tr style=\"text-align: right;\">\n",
       "      <th></th>\n",
       "      <th>Title</th>\n",
       "      <th>Author</th>\n",
       "      <th>Publisher</th>\n",
       "      <th>Publication Year</th>\n",
       "      <th>Description</th>\n",
       "      <th>Price</th>\n",
       "    </tr>\n",
       "  </thead>\n",
       "  <tbody>\n",
       "    <tr>\n",
       "      <th>0</th>\n",
       "      <td>Learning Go</td>\n",
       "      <td>Jon Bodner</td>\n",
       "      <td>O'Reilly Media</td>\n",
       "      <td>2024</td>\n",
       "      <td>Go has rapidly become the preferred language f...</td>\n",
       "      <td>US$56.99</td>\n",
       "    </tr>\n",
       "    <tr>\n",
       "      <th>1</th>\n",
       "      <td>Tidy First?</td>\n",
       "      <td>Kent Beck</td>\n",
       "      <td>O'Reilly Media</td>\n",
       "      <td>2023</td>\n",
       "      <td>Tidying up messy software is a must. And that ...</td>\n",
       "      <td>US$33.99</td>\n",
       "    </tr>\n",
       "    <tr>\n",
       "      <th>2</th>\n",
       "      <td>Designing Data-Intensive Applications</td>\n",
       "      <td>Martin Kleppmann</td>\n",
       "      <td>O'Reilly Media</td>\n",
       "      <td>2017</td>\n",
       "      <td>Data is at the center of many challenges in sy...</td>\n",
       "      <td>US$50.99</td>\n",
       "    </tr>\n",
       "    <tr>\n",
       "      <th>3</th>\n",
       "      <td>Hands-On Machine Learning with Scikit-Learn, K...</td>\n",
       "      <td>Aurélien Géron</td>\n",
       "      <td>O'Reilly Media</td>\n",
       "      <td>2022</td>\n",
       "      <td>Through a recent series of breakthroughs, deep...</td>\n",
       "      <td>US$76.99</td>\n",
       "    </tr>\n",
       "    <tr>\n",
       "      <th>4</th>\n",
       "      <td>Software Engineering for Data Scientists</td>\n",
       "      <td>Catherine Nelson</td>\n",
       "      <td>O'Reilly Media</td>\n",
       "      <td>2024</td>\n",
       "      <td>Data science happens in code. The ability to w...</td>\n",
       "      <td>US$59.99</td>\n",
       "    </tr>\n",
       "    <tr>\n",
       "      <th>...</th>\n",
       "      <td>...</td>\n",
       "      <td>...</td>\n",
       "      <td>...</td>\n",
       "      <td>...</td>\n",
       "      <td>...</td>\n",
       "      <td>...</td>\n",
       "    </tr>\n",
       "    <tr>\n",
       "      <th>95</th>\n",
       "      <td>Software Supply Chain Security</td>\n",
       "      <td>Cassie Crossley</td>\n",
       "      <td>O'Reilly Media</td>\n",
       "      <td>2024</td>\n",
       "      <td>Trillions of lines of code help us in our live...</td>\n",
       "      <td>US$47.99</td>\n",
       "    </tr>\n",
       "    <tr>\n",
       "      <th>96</th>\n",
       "      <td>Hands-On Entity Resolution</td>\n",
       "      <td>Michael Shearer</td>\n",
       "      <td>O'Reilly Media</td>\n",
       "      <td>2024</td>\n",
       "      <td>Entity resolution is a key analytic technique ...</td>\n",
       "      <td>US$56.99</td>\n",
       "    </tr>\n",
       "    <tr>\n",
       "      <th>97</th>\n",
       "      <td>Windows 11 Inside Out</td>\n",
       "      <td>Ed Bott</td>\n",
       "      <td>Pearson Education</td>\n",
       "      <td>2023</td>\n",
       "      <td>Conquer Windows 11 -- from the inside out! &amp;nb...</td>\n",
       "      <td>US$57.99</td>\n",
       "    </tr>\n",
       "    <tr>\n",
       "      <th>98</th>\n",
       "      <td>Hands-On Differential Privacy</td>\n",
       "      <td>Ethan Cowan</td>\n",
       "      <td>O'Reilly Media</td>\n",
       "      <td>2024</td>\n",
       "      <td>Many organizations today analyze and share lar...</td>\n",
       "      <td>US$67.99</td>\n",
       "    </tr>\n",
       "    <tr>\n",
       "      <th>99</th>\n",
       "      <td>Web Accessibility Cookbook</td>\n",
       "      <td>Manuel Matuzovic</td>\n",
       "      <td>O'Reilly Media</td>\n",
       "      <td>2024</td>\n",
       "      <td>Frontend developers have to consider many thin...</td>\n",
       "      <td>US$56.99</td>\n",
       "    </tr>\n",
       "  </tbody>\n",
       "</table>\n",
       "<p>100 rows × 6 columns</p>\n",
       "</div>"
      ],
      "text/plain": [
       "                                                Title            Author  \\\n",
       "0                                         Learning Go        Jon Bodner   \n",
       "1                                         Tidy First?         Kent Beck   \n",
       "2               Designing Data-Intensive Applications  Martin Kleppmann   \n",
       "3   Hands-On Machine Learning with Scikit-Learn, K...    Aurélien Géron   \n",
       "4            Software Engineering for Data Scientists  Catherine Nelson   \n",
       "..                                                ...               ...   \n",
       "95                     Software Supply Chain Security   Cassie Crossley   \n",
       "96                         Hands-On Entity Resolution   Michael Shearer   \n",
       "97                              Windows 11 Inside Out           Ed Bott   \n",
       "98                      Hands-On Differential Privacy       Ethan Cowan   \n",
       "99                         Web Accessibility Cookbook  Manuel Matuzovic   \n",
       "\n",
       "            Publisher Publication Year  \\\n",
       "0      O'Reilly Media             2024   \n",
       "1      O'Reilly Media             2023   \n",
       "2      O'Reilly Media             2017   \n",
       "3      O'Reilly Media             2022   \n",
       "4      O'Reilly Media             2024   \n",
       "..                ...              ...   \n",
       "95     O'Reilly Media             2024   \n",
       "96     O'Reilly Media             2024   \n",
       "97  Pearson Education             2023   \n",
       "98     O'Reilly Media             2024   \n",
       "99     O'Reilly Media             2024   \n",
       "\n",
       "                                          Description     Price  \n",
       "0   Go has rapidly become the preferred language f...  US$56.99  \n",
       "1   Tidying up messy software is a must. And that ...  US$33.99  \n",
       "2   Data is at the center of many challenges in sy...  US$50.99  \n",
       "3   Through a recent series of breakthroughs, deep...  US$76.99  \n",
       "4   Data science happens in code. The ability to w...  US$59.99  \n",
       "..                                                ...       ...  \n",
       "95  Trillions of lines of code help us in our live...  US$47.99  \n",
       "96  Entity resolution is a key analytic technique ...  US$56.99  \n",
       "97  Conquer Windows 11 -- from the inside out! &nb...  US$57.99  \n",
       "98  Many organizations today analyze and share lar...  US$67.99  \n",
       "99  Frontend developers have to consider many thin...  US$56.99  \n",
       "\n",
       "[100 rows x 6 columns]"
      ]
     },
     "execution_count": 48,
     "metadata": {},
     "output_type": "execute_result"
    }
   ],
   "source": [
    "books_multiple_df"
   ]
  },
  {
   "cell_type": "code",
   "execution_count": 49,
   "id": "3609de61",
   "metadata": {},
   "outputs": [],
   "source": [
    "books_multiple_df.to_excel('books_multple_pages.xlsx', index=False)"
   ]
  },
  {
   "cell_type": "markdown",
   "id": "726bde56",
   "metadata": {},
   "source": [
    "<b><i>Webscraping Project by: Afahayangha Ekpo | Python Developer | Data Scientist | CyberSecurity Expert"
   ]
  }
 ],
 "metadata": {
  "kernelspec": {
   "display_name": "Python 3 (ipykernel)",
   "language": "python",
   "name": "python3"
  },
  "language_info": {
   "codemirror_mode": {
    "name": "ipython",
    "version": 3
   },
   "file_extension": ".py",
   "mimetype": "text/x-python",
   "name": "python",
   "nbconvert_exporter": "python",
   "pygments_lexer": "ipython3",
   "version": "3.10.9"
  }
 },
 "nbformat": 4,
 "nbformat_minor": 5
}
